{
  "cells": [
    {
      "cell_type": "markdown",
      "metadata": {
        "id": "view-in-github",
        "colab_type": "text"
      },
      "source": [
        "<a href=\"https://colab.research.google.com/github/luccahonorio/pos-grad-spark/blob/main/AtividadeSpark_main.ipynb\" target=\"_parent\"><img src=\"https://colab.research.google.com/assets/colab-badge.svg\" alt=\"Open In Colab\"/></a>"
      ]
    },
    {
      "cell_type": "markdown",
      "metadata": {
        "id": "wAyIvfaaEdJd"
      },
      "source": [
        "# Atividade Spark\n",
        "\n",
        "Considerando o dataset detalhado a seguir, extraia o conjunto de informações solicitadas.\n",
        "\n",
        "### Dataset dados de COVID no Brasil\n",
        "\n",
        "- Dados relativos a pacientes que realizaram exames de Covid19 no Brasil ate Marco 2020\n",
        "- ~1.6GB\n",
        "- 4.4M de instâncias\n",
        "\n",
        "\n",
        "|  # | Nome do campo        \t| Descrição                                     \t|\n",
        "|----|----------------------\t|-----------------------------------------------\t|\n",
        "|  0 | id                   \t| identificador                                 \t|\n",
        "|  1 | dataNotificacao      \t| Data da notificação                           \t|\n",
        "|  2 | dataInicioSintomas   \t| Data do inicio dos sintomas                   \t|\n",
        "|  3 | dataNascimento       \t| Data de nascimento                            \t|\n",
        "|  4 | sintomas             \t| Sintomas do paciente                          \t|\n",
        "|  5 | profissionalSaude    \t| Relacionado a profissional de saúde           \t|\n",
        "|  6 | cbo                  \t| Ocupação                                      \t|\n",
        "|  7 | condicoes            \t| Condições do paciente                         \t|\n",
        "|  8 | estadoTeste          \t| Estado do teste                               \t|\n",
        "|  9 | dataTeste            \t| Data do teste                                 \t|\n",
        "| 10 | tipoTeste            \t| Tipo de teste realizado                       \t|\n",
        "| 11 | resultadoTeste       \t| Resultado do Teste                            \t|\n",
        "| 12 | paisOrigem           \t| Pais de Origem do paciente                    \t|\n",
        "| 13 | sexo                 \t| Sexo do paciente                              \t|\n",
        "| 14 | bairro               \t| Bairro do paciente                            \t|\n",
        "| 15 | estado               \t| Estado do paciente                            \t|\n",
        "| 16 | estadoIBGE              \t| Estado do paciente IBGE                          \t|\n",
        "| 17 | municipio            \t| Municipio do paciente                         \t|\n",
        "| 18 | municipioIBGE          \t| Municipio do paciente                         \t|\n",
        "| 19 | cep            \t        | CEP                                            \t|\n",
        "| 20 | origem               \t| Origem do paciente                            \t|\n",
        "| 21 | cnes                 \t| Código da unidade de saúde                    \t|\n",
        "| 22 | estadoNotificacao    \t| Estado da notificação                         \t|\n",
        "| 23 | estadoNotificacaoIBGE    | Estado da notificação IBGE                      \t|\n",
        "| 24 | municipioNotificacao \t| Município da notificação                      \t|\n",
        "| 25 | municipioNotificacaoIBGE | Município da notificação IBGE                    \t|\n",
        "| 26 | numeroNotificacao    \t| Número da notificação                         \t|\n",
        "| 27 | excluido             \t| ID de exclusão                                \t|\n",
        "| 28 | validado             \t| Local validação                               \t|\n",
        "| 29 | idade                \t| Idade do paciente                             \t|\n",
        "| 30 | dataEncerramento     \t| Data do encerramento da avaliação do paciente \t|\n",
        "| 31 | evolucaoCaso         \t| Evolução do caso do paciente                  \t|\n",
        "| 32 | classificacaoFinal   \t| Avaliação final do caso                       \t|\n",
        "\n",
        "Informações a serem extraídas:\n",
        "\n",
        "1. Quantidade de pacientes positivos para corona virus (resultadoTeste)\n",
        "2. Quantidade de pacientes do sexo feminino positivos para corona virus (resultadoTeste)\n",
        "3. Quantidade de pacientes de acordo com o sexo e o resultado do teste (resultadoTeste)\n",
        "4. Sintomas mais comuns para casos positivos para corona virus\n",
        "5. Sintomas mais comuns para casos não positivos para corona virus\n",
        "6. Quantidade de casos positivos no Paraná\n",
        "7. Municipio do Paraná com a maior quantidade de óbitos (evolucaoCaso)\n",
        "8. Quantidade de municipios no Paraná com casos positivos\n",
        "9. Quantidade de municipios no Paraná sem casos positivos\n",
        "10. Estado com a maior taxa de falecimento de mulheres\n",
        "11. Menor idade de mulher positiva para covid\n",
        "12. Maior idade de mulher positiva para covid\n",
        "13. Quantidade de casos positivos, em granularidade diária, ao longo do tempo\n",
        "14. Quantidade de casos positivos, em granularidade semanal, ao longo do tempo\n",
        "15. Quantidade de pacientes que faleceram (evolucaoCaso) separados pela idade\n",
        "16. Taxa de óbito (evolucaoCaso) por idade\n",
        "17. Idade média das mulheres positivas para covid\n",
        "18. Município do Paraná com a maior quantidade de mulheres positivos para covid\n",
        "19. Dia da semana com a maior quantidade de testes realizados\n",
        "20. Dia da semana com maior quantidade de pacientes positivos para corona virus\n",
        "21. Municipio, com mais de 500 testes, com a maior taxa de exames que não foram positivos para COVID (casos que foram testados porém não tiveram o resultadoTeste como Positivo)\n",
        "\n",
        "**Dicas:**\n",
        "- *Crie uma célula (Insert -> Insert Cell Below) para cada informação solicitada*"
      ]
    },
    {
      "cell_type": "code",
      "source": [
        "a = 10\n",
        "a = a + 2\n",
        "print(a)"
      ],
      "metadata": {
        "id": "MOzkKQYcOL9g",
        "colab": {
          "base_uri": "https://localhost:8080/"
        },
        "outputId": "1348ab2e-7aac-408f-f9ca-e8991334d504"
      },
      "execution_count": null,
      "outputs": [
        {
          "output_type": "stream",
          "name": "stdout",
          "text": [
            "12\n"
          ]
        }
      ]
    },
    {
      "cell_type": "code",
      "source": [
        "#instala pyspark no google colab\n",
        "!pip install pyspark==3.3.1"
      ],
      "metadata": {
        "id": "8_yyegCRE4YG",
        "colab": {
          "base_uri": "https://localhost:8080/"
        },
        "outputId": "0cd63915-e2c9-4bf1-cd1c-c41c6f9bef21"
      },
      "execution_count": null,
      "outputs": [
        {
          "output_type": "stream",
          "name": "stdout",
          "text": [
            "Collecting pyspark==3.3.1\n",
            "  Downloading pyspark-3.3.1.tar.gz (281.4 MB)\n",
            "\u001b[2K     \u001b[90m━━━━━━━━━━━━━━━━━━━━━━━━━━━━━━━━━━━━━━━\u001b[0m \u001b[32m281.4/281.4 MB\u001b[0m \u001b[31m3.7 MB/s\u001b[0m eta \u001b[36m0:00:00\u001b[0m\n",
            "\u001b[?25h  Preparing metadata (setup.py) ... \u001b[?25l\u001b[?25hdone\n",
            "Collecting py4j==0.10.9.5 (from pyspark==3.3.1)\n",
            "  Downloading py4j-0.10.9.5-py2.py3-none-any.whl (199 kB)\n",
            "\u001b[2K     \u001b[90m━━━━━━━━━━━━━━━━━━━━━━━━━━━━━━━━━━━━━━\u001b[0m \u001b[32m199.7/199.7 kB\u001b[0m \u001b[31m16.4 MB/s\u001b[0m eta \u001b[36m0:00:00\u001b[0m\n",
            "\u001b[?25hBuilding wheels for collected packages: pyspark\n",
            "  Building wheel for pyspark (setup.py) ... \u001b[?25l\u001b[?25hdone\n",
            "  Created wheel for pyspark: filename=pyspark-3.3.1-py2.py3-none-any.whl size=281845500 sha256=85bd2c7b68a5c5aad4855b7a0a878042b0c9fc495532e3243712a111a90475c0\n",
            "  Stored in directory: /root/.cache/pip/wheels/0f/f0/3d/517368b8ce80486e84f89f214e0a022554e4ee64969f46279b\n",
            "Successfully built pyspark\n",
            "Installing collected packages: py4j, pyspark\n",
            "  Attempting uninstall: py4j\n",
            "    Found existing installation: py4j 0.10.9.7\n",
            "    Uninstalling py4j-0.10.9.7:\n",
            "      Successfully uninstalled py4j-0.10.9.7\n",
            "Successfully installed py4j-0.10.9.5 pyspark-3.3.1\n"
          ]
        }
      ]
    },
    {
      "cell_type": "code",
      "execution_count": null,
      "metadata": {
        "id": "5oa0PA69EdJf"
      },
      "outputs": [],
      "source": [
        "# abre sessão no spark\n",
        "import pyspark\n",
        "conf = pyspark.SparkConf()\n",
        "conf.setMaster('local[*]')\n",
        "sc = pyspark.SparkContext.getOrCreate(conf)"
      ]
    },
    {
      "cell_type": "code",
      "source": [
        "#Efetua download do arquivo covid\n",
        "!gdown 1EYMih3Ys1-DmaIZ9n0Sl5KAcRGqtpuj9"
      ],
      "metadata": {
        "id": "dsLk2QFUE8cn",
        "colab": {
          "base_uri": "https://localhost:8080/"
        },
        "outputId": "2df57f0d-535a-4944-fd91-5b3b7c50d1b5"
      },
      "execution_count": null,
      "outputs": [
        {
          "output_type": "stream",
          "name": "stdout",
          "text": [
            "Downloading...\n",
            "From: https://drive.google.com/uc?id=1EYMih3Ys1-DmaIZ9n0Sl5KAcRGqtpuj9\n",
            "To: /content/covid.csv\n",
            "100% 1.64G/1.64G [00:15<00:00, 106MB/s]\n"
          ]
        }
      ]
    },
    {
      "cell_type": "code",
      "source": [
        "#carrega arquivo da COVID em um rdd\n",
        "rdd = sc.textFile('file:////content/covid.csv')"
      ],
      "metadata": {
        "id": "WAohEGP2E9CO"
      },
      "execution_count": null,
      "outputs": []
    },
    {
      "cell_type": "code",
      "source": [
        "def pegaSexo(linha):\n",
        "  campos = linha.split(\";\")\n",
        "  return campos[13]\n",
        "\n",
        "def geraChaveValor(sexo):\n",
        "  return [sexo, 1]\n",
        "\n",
        "def somaValores(a,b):\n",
        "  return a + b\n",
        "\n",
        "rdd.map(pegaSexo).map(geraChaveValor).reduceByKey(somaValores).take(5)"
      ],
      "metadata": {
        "id": "BWMbSmQ5Fgw1",
        "colab": {
          "base_uri": "https://localhost:8080/"
        },
        "outputId": "e04936c8-afb1-4847-cc12-04a74260080f"
      },
      "execution_count": null,
      "outputs": [
        {
          "output_type": "execute_result",
          "data": {
            "text/plain": [
              "[('Feminino', 2322760),\n",
              " ('null', 506),\n",
              " ('Indefinido', 107295),\n",
              " ('sexo', 1),\n",
              " ('Masculino', 1994043)]"
            ]
          },
          "metadata": {},
          "execution_count": 8
        }
      ]
    },
    {
      "cell_type": "code",
      "source": [],
      "metadata": {
        "id": "9Ys6WecLFge6"
      },
      "execution_count": null,
      "outputs": []
    },
    {
      "cell_type": "code",
      "source": [],
      "metadata": {
        "id": "O6hHt5tDFfp1"
      },
      "execution_count": null,
      "outputs": []
    },
    {
      "cell_type": "code",
      "execution_count": null,
      "metadata": {
        "id": "y-6j-VzxEdJg",
        "colab": {
          "base_uri": "https://localhost:8080/"
        },
        "outputId": "867ff520-e4a3-4c90-a15b-4dd279c12956"
      },
      "outputs": [
        {
          "output_type": "execute_result",
          "data": {
            "text/plain": [
              "[('Positivo', 1230210)]"
            ]
          },
          "metadata": {},
          "execution_count": 7
        }
      ],
      "source": [
        "#informacao 1\n",
        "def getPositivePacient(line):\n",
        "  field = line.split(\";\")\n",
        "  return [field[11],1]\n",
        "\n",
        "def sumValues(a,b):\n",
        "  return a + b\n",
        "\n",
        "def removeFeel(entry):\n",
        "  return entry[1] > 1000\n",
        "\n",
        "def filterPositive(entry):\n",
        "  return entry[0] == \"Positivo\"\n",
        "\n",
        "\n",
        "rdd.map(getPositivePacient).reduceByKey(sumValues).filter(removeFeel).filter(filterPositive).collect()"
      ]
    },
    {
      "cell_type": "code",
      "execution_count": null,
      "metadata": {
        "id": "c39VCGGuEdJg"
      },
      "outputs": [],
      "source": [
        "#informacao 2\n",
        "def getPositivePacient(line):\n",
        "  field = line.split(\";\")\n",
        "  return [(field[11], field[13]), 1]\n",
        "\n",
        "def sumValues(a,b):\n",
        "  return a + b\n",
        "\n",
        "def filterPositive(entry):\n",
        "  return entry[0][0] == \"Positivo\" and entry[0][1] == \"Feminino\"\n",
        "\n",
        "rdd.map(getPositivePacient).reduceByKey(sumValues).filter(filterPositive).collect()\n",
        "\n",
        "# 632899"
      ]
    },
    {
      "cell_type": "code",
      "source": [],
      "metadata": {
        "id": "gThx5hpU6g6h"
      },
      "execution_count": null,
      "outputs": []
    },
    {
      "cell_type": "code",
      "source": [],
      "metadata": {
        "id": "-_V4lEqGFhhX"
      },
      "execution_count": null,
      "outputs": []
    },
    {
      "cell_type": "code",
      "execution_count": null,
      "metadata": {
        "id": "gAxnz6KtEdJg"
      },
      "outputs": [],
      "source": [
        "#informacao 3\n"
      ]
    },
    {
      "cell_type": "code",
      "source": [],
      "metadata": {
        "id": "Fxw62ebPFh6W"
      },
      "execution_count": null,
      "outputs": []
    },
    {
      "cell_type": "code",
      "execution_count": null,
      "metadata": {
        "id": "-tfKdf8lEdJg"
      },
      "outputs": [],
      "source": [
        "#informacao 4\n"
      ]
    },
    {
      "cell_type": "code",
      "source": [],
      "metadata": {
        "id": "MpxcM41WFiNU"
      },
      "execution_count": null,
      "outputs": []
    },
    {
      "cell_type": "code",
      "execution_count": null,
      "metadata": {
        "id": "_Pg5i0w5EdJg"
      },
      "outputs": [],
      "source": [
        "#informacao 5\n"
      ]
    },
    {
      "cell_type": "code",
      "source": [],
      "metadata": {
        "id": "Lkmv6LV9Fim9"
      },
      "execution_count": null,
      "outputs": []
    },
    {
      "cell_type": "code",
      "execution_count": null,
      "metadata": {
        "id": "pLmEO2EnEdJg"
      },
      "outputs": [],
      "source": [
        "#informacao 6\n"
      ]
    },
    {
      "cell_type": "code",
      "source": [],
      "metadata": {
        "id": "RHcCOe6XFizS"
      },
      "execution_count": null,
      "outputs": []
    },
    {
      "cell_type": "code",
      "execution_count": null,
      "metadata": {
        "id": "J9Tj1b1dEdJg"
      },
      "outputs": [],
      "source": [
        "#informacao 7\n"
      ]
    },
    {
      "cell_type": "code",
      "source": [],
      "metadata": {
        "id": "urN6jLETFjJx"
      },
      "execution_count": null,
      "outputs": []
    },
    {
      "cell_type": "code",
      "execution_count": null,
      "metadata": {
        "id": "_mJDcscmEdJh"
      },
      "outputs": [],
      "source": [
        "#informacao 8\n"
      ]
    },
    {
      "cell_type": "code",
      "source": [],
      "metadata": {
        "id": "yIxFL5TGFjVu"
      },
      "execution_count": null,
      "outputs": []
    },
    {
      "cell_type": "code",
      "execution_count": null,
      "metadata": {
        "id": "5MzFvirgEdJh"
      },
      "outputs": [],
      "source": [
        "#informacao 9\n"
      ]
    },
    {
      "cell_type": "code",
      "source": [],
      "metadata": {
        "id": "AHM6JnS5Fjq2"
      },
      "execution_count": null,
      "outputs": []
    },
    {
      "cell_type": "code",
      "execution_count": null,
      "metadata": {
        "id": "X_DOjqudEdJh"
      },
      "outputs": [],
      "source": [
        "#informacao 10\n"
      ]
    },
    {
      "cell_type": "code",
      "source": [],
      "metadata": {
        "id": "IUrSXeK0FkNR"
      },
      "execution_count": null,
      "outputs": []
    },
    {
      "cell_type": "code",
      "execution_count": null,
      "metadata": {
        "id": "tdSti370EdJh"
      },
      "outputs": [],
      "source": [
        "#informacao 11\n"
      ]
    },
    {
      "cell_type": "code",
      "source": [],
      "metadata": {
        "id": "JkXMcMvjFkgn"
      },
      "execution_count": null,
      "outputs": []
    },
    {
      "cell_type": "code",
      "execution_count": null,
      "metadata": {
        "id": "hA43YWXWEdJh"
      },
      "outputs": [],
      "source": [
        "#informacao 12\n"
      ]
    },
    {
      "cell_type": "code",
      "source": [],
      "metadata": {
        "id": "iYYdZaGpFkwy"
      },
      "execution_count": null,
      "outputs": []
    },
    {
      "cell_type": "code",
      "execution_count": null,
      "metadata": {
        "id": "uvkLha0CEdJh"
      },
      "outputs": [],
      "source": [
        "#informacao 13\n"
      ]
    },
    {
      "cell_type": "code",
      "source": [],
      "metadata": {
        "id": "mQCeV8ymFlG7"
      },
      "execution_count": null,
      "outputs": []
    },
    {
      "cell_type": "code",
      "execution_count": null,
      "metadata": {
        "id": "egPwzuMfEdJh"
      },
      "outputs": [],
      "source": [
        "#informacao 14\n"
      ]
    },
    {
      "cell_type": "code",
      "source": [],
      "metadata": {
        "id": "_Z8Ye120FlXe"
      },
      "execution_count": null,
      "outputs": []
    },
    {
      "cell_type": "code",
      "execution_count": null,
      "metadata": {
        "id": "eQ9nVlqVEdJh"
      },
      "outputs": [],
      "source": [
        "#informacao 15\n"
      ]
    },
    {
      "cell_type": "code",
      "source": [],
      "metadata": {
        "id": "NWSnQpf3Flmk"
      },
      "execution_count": null,
      "outputs": []
    },
    {
      "cell_type": "code",
      "execution_count": null,
      "metadata": {
        "id": "VqThUoisEdJh"
      },
      "outputs": [],
      "source": [
        "#informacao 16\n"
      ]
    },
    {
      "cell_type": "code",
      "source": [],
      "metadata": {
        "id": "solZFx95Fl1s"
      },
      "execution_count": null,
      "outputs": []
    },
    {
      "cell_type": "code",
      "execution_count": null,
      "metadata": {
        "id": "j6vwg5UiEdJi"
      },
      "outputs": [],
      "source": [
        "#informacao 17\n"
      ]
    },
    {
      "cell_type": "code",
      "source": [],
      "metadata": {
        "id": "EREh4QZWFmRf"
      },
      "execution_count": null,
      "outputs": []
    },
    {
      "cell_type": "code",
      "execution_count": null,
      "metadata": {
        "id": "Ph-iqND0EdJi"
      },
      "outputs": [],
      "source": [
        "#informacao 18\n"
      ]
    },
    {
      "cell_type": "code",
      "source": [],
      "metadata": {
        "id": "rjpRMJhIFmpw"
      },
      "execution_count": null,
      "outputs": []
    },
    {
      "cell_type": "code",
      "execution_count": null,
      "metadata": {
        "id": "qYTxR1LfEdJi"
      },
      "outputs": [],
      "source": [
        "#informacao 19\n"
      ]
    },
    {
      "cell_type": "code",
      "source": [],
      "metadata": {
        "id": "5kCxb_GqFnBo"
      },
      "execution_count": null,
      "outputs": []
    },
    {
      "cell_type": "code",
      "execution_count": null,
      "metadata": {
        "id": "FAwKh9vMEdJi"
      },
      "outputs": [],
      "source": [
        "#informacao 20\n"
      ]
    },
    {
      "cell_type": "code",
      "source": [],
      "metadata": {
        "id": "uXZSquGmFnvV"
      },
      "execution_count": null,
      "outputs": []
    },
    {
      "cell_type": "code",
      "execution_count": null,
      "metadata": {
        "id": "dR9HrH0HEdJi"
      },
      "outputs": [],
      "source": [
        "#informacao 21\n"
      ]
    },
    {
      "cell_type": "code",
      "source": [],
      "metadata": {
        "id": "C2_droiMFnlI"
      },
      "execution_count": null,
      "outputs": []
    }
  ],
  "metadata": {
    "kernelspec": {
      "display_name": "Python 3",
      "language": "python",
      "name": "python3"
    },
    "language_info": {
      "codemirror_mode": {
        "name": "ipython",
        "version": 3
      },
      "file_extension": ".py",
      "mimetype": "text/x-python",
      "name": "python",
      "nbconvert_exporter": "python",
      "pygments_lexer": "ipython3",
      "version": "3.7.6"
    },
    "colab": {
      "provenance": [],
      "include_colab_link": true
    }
  },
  "nbformat": 4,
  "nbformat_minor": 0
}